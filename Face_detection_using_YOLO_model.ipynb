{
  "nbformat": 4,
  "nbformat_minor": 0,
  "metadata": {
    "colab": {
      "provenance": [],
      "authorship_tag": "ABX9TyOVA9O89DzkF33Pa1LSrNDF",
      "include_colab_link": true
    },
    "kernelspec": {
      "name": "python3",
      "display_name": "Python 3"
    },
    "language_info": {
      "name": "python"
    }
  },
  "cells": [
    {
      "cell_type": "markdown",
      "metadata": {
        "id": "view-in-github",
        "colab_type": "text"
      },
      "source": [
        "<a href=\"https://colab.research.google.com/github/Dexter0013/Face-detection-using-YOLO-model/blob/main/Face_detection_using_YOLO_model.ipynb\" target=\"_parent\"><img src=\"https://colab.research.google.com/assets/colab-badge.svg\" alt=\"Open In Colab\"/></a>"
      ]
    },
    {
      "cell_type": "code",
      "execution_count": null,
      "metadata": {
        "id": "C9gRdL_xcQ2_"
      },
      "outputs": [],
      "source": [
        "!pip install ultralytics"
      ]
    },
    {
      "cell_type": "code",
      "source": [
        "from google.colab import drive\n",
        "drive.mount('/content/drive')"
      ],
      "metadata": {
        "id": "BTAFLVY5cde7"
      },
      "execution_count": null,
      "outputs": []
    },
    {
      "cell_type": "code",
      "source": [
        "!mkdir /content/drive/MyDrive/dataYOLO"
      ],
      "metadata": {
        "id": "C7k1mo5hcmu4"
      },
      "execution_count": null,
      "outputs": []
    },
    {
      "cell_type": "code",
      "source": [
        "!cp -r /content/runs /content/drive/MyDrive/dataYOLO"
      ],
      "metadata": {
        "id": "QZ5qwpy8czCy"
      },
      "execution_count": null,
      "outputs": []
    },
    {
      "cell_type": "code",
      "source": [
        "!pip install streamlit"
      ],
      "metadata": {
        "id": "lp5cTYqScnSK"
      },
      "execution_count": null,
      "outputs": []
    },
    {
      "cell_type": "code",
      "source": [
        "!pip install streamlit_webrtc"
      ],
      "metadata": {
        "id": "8_N1wCt5cz4B"
      },
      "execution_count": null,
      "outputs": []
    },
    {
      "cell_type": "code",
      "source": [
        "from ultralytics import YOLO\n",
        "\n",
        "# Load the pretrained YOLO11 Nano model\n",
        "model = YOLO(\"/content/drive/MyDrive/data/optimized/runs/yolo11_optimized_run3/weights/best.pt\")\n",
        "\n",
        "# Run inference on an image\n",
        "results = model(\"/content/drive/MyDrive/data/dataYOLO/images/20250701_155225.jpg\", save=True,\n",
        "project=\"/content/PredictedImages\", name=\"auto_saved\", exist_ok=True)\n",
        "# Display results\n",
        "results[0].show()"
      ],
      "metadata": {
        "id": "CafH-BbsdDXC"
      },
      "execution_count": null,
      "outputs": []
    },
    {
      "cell_type": "code",
      "source": [
        "%%writefile app.py\n",
        "import streamlit as st\n",
        "from streamlit_webrtc import webrtc_streamer, VideoTransformerBase\n",
        "from ultralytics import YOLO\n",
        "import av\n",
        "import cv2 # Import cv2 for converting AvFrame to numpy array\n",
        "\n",
        "# Load YOLO11 Nano model\n",
        "# Make sure this path is correct and the model exists after training\n",
        "model = YOLO(\"/content/drive/MyDrive/dataYOLO/runs/detect/train2/weights/best.pt\")\n",
        "\n",
        "# Define frame processor\n",
        "class YOLOTransformer(VideoTransformerBase):\n",
        "    def recv(self, frame: av.VideoFrame) -> av.VideoFrame:\n",
        "        img = frame.to_ndarray(format=\"bgr24\")\n",
        "\n",
        "        # Run YOLO inference\n",
        "        results = model(img)\n",
        "\n",
        "        # Annotated frame\n",
        "        annotated_frame = results[0].plot()\n",
        "\n",
        "        # Convert the annotated frame back to an AvFrame\n",
        "        return av.VideoFrame.from_ndarray(annotated_frame, format=\"bgr24\")\n",
        "\n",
        "# Streamlit UI\n",
        "st.title(\"YOLO11n + WebRTC Real-Time Object Detection\")\n",
        "st.markdown(\"This app uses your webcam to detect objects live using YOLO11 Nano.\")\n",
        "\n",
        "# Start WebRTC stream\n",
        "webrtc_streamer(\n",
        "    key=\"yolo11n-stream\",\n",
        "    video_transformer_factory=YOLOTransformer,\n",
        "    media_stream_constraints={\"video\": True, \"audio\": False},\n",
        "    async_transform=True,\n",
        ")"
      ],
      "metadata": {
        "id": "9IBdEplDc2JE"
      },
      "execution_count": null,
      "outputs": []
    },
    {
      "cell_type": "code",
      "source": [],
      "metadata": {
        "id": "BqGbJldSdCG6"
      },
      "execution_count": null,
      "outputs": []
    },
    {
      "cell_type": "code",
      "source": [
        "#get the current ip address of the colab notebook\n",
        "!wget -q -O - ipv4.icanhazip.com"
      ],
      "metadata": {
        "id": "iG_NWzBtc8aa"
      },
      "execution_count": null,
      "outputs": []
    },
    {
      "cell_type": "code",
      "source": [
        "#Activate local tunnel at the port 8501\n",
        "!streamlit run app.py & npx localtunnel --port 8501"
      ],
      "metadata": {
        "id": "qeydwwCTc_86"
      },
      "execution_count": null,
      "outputs": []
    }
  ]
}